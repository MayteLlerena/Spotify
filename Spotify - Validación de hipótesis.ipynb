{
  "nbformat": 4,
  "nbformat_minor": 0,
  "metadata": {
    "colab": {
      "provenance": [],
      "authorship_tag": "ABX9TyPBXOuvZXU8Os8FUuxnnEBa",
      "include_colab_link": true
    },
    "kernelspec": {
      "name": "python3",
      "display_name": "Python 3"
    },
    "language_info": {
      "name": "python"
    }
  },
  "cells": [
    {
      "cell_type": "markdown",
      "metadata": {
        "id": "view-in-github",
        "colab_type": "text"
      },
      "source": [
        "<a href=\"https://colab.research.google.com/github/MayteLlerena/Spotify/blob/main/Spotify%20-%20Validaci%C3%B3n%20de%20hip%C3%B3tesis.ipynb\" target=\"_parent\"><img src=\"https://colab.research.google.com/assets/colab-badge.svg\" alt=\"Open In Colab\"/></a>"
      ]
    },
    {
      "cell_type": "markdown",
      "source": [
        "**Importando datos desde BigQuery**"
      ],
      "metadata": {
        "id": "P4X6YNJjLrpg"
      }
    },
    {
      "cell_type": "code",
      "execution_count": null,
      "metadata": {
        "id": "XobmtGh2BsVd"
      },
      "outputs": [],
      "source": [
        "!pip install google-cloud-bigquery\n",
        "!pip install pandas\n",
        "from google.cloud import bigquery\n",
        "from google.colab import auth\n",
        "auth.authenticate_user()\n",
        "project_id = 'proyecto-hipotesis-403717' # Especifica el ID del proyecto\n",
        "client = bigquery.Client(project=project_id)\n",
        "\n",
        "query = 'SELECT * FROM `proyecto-hipotesis-403717.Pruebas.Union_tablas`' # Especifica la consulta SQL para obtener los datos\n",
        "\n",
        "df = client.query(query).to_dataframe() # Ejecuta la consulta y almacena los resultados en un DataFrame de Pandas\n",
        "\n",
        "print(df.head()) # Imprime el DataFrame\n"
      ]
    },
    {
      "cell_type": "markdown",
      "source": [
        "**Validación de hipótesis a través de la prueba de Mann-Whitney U para muestras no paramétricas**"
      ],
      "metadata": {
        "id": "q3JthJRKMCV9"
      }
    },
    {
      "cell_type": "code",
      "source": [
        "import pandas as pd\n",
        "from scipy.stats import mannwhitneyu\n",
        "# Suponiendo que 'df' es tu DataFrame original\n",
        "df_mann = df[['stream_limpia', 'cat_stream', 'cat_dance', 'cat_valance', 'cat_energy', 'cat_acousticness', 'cat_instrumentalness', 'cat_liveness', 'cat_speechiness']].copy()\n",
        " #Convertir 'cat_dance' a valores de cadena\n",
        "df_mann['cat_dance'] = df_mann['cat_dance'].astype(str)\n",
        "df_mann['stream_limpia']=df_mann['stream_limpia'].astype(\"float\")\n",
        "# Separa las muestras en \"alto stream\" y \"bajo stream\" según la columna 'categoria'\n",
        "alto_stream = df_mann[df_mann['cat_dance'] == 'alto']['stream_limpia']\n",
        "bajo_stream = df_mann[df_mann['cat_dance'] == 'bajo']['stream_limpia']\n",
        "# Realiza la prueba de Mann-Whitney\n",
        "resultado_mannwhitneyu = mannwhitneyu(alto_stream, bajo_stream)\n",
        "# Imprime el resultado\n",
        "print(\"Estadística de prueba U:\", resultado_mannwhitneyu.statistic)\n",
        "print(\"Valor p:\", resultado_mannwhitneyu.pvalue)\n",
        "# Interpretación del resultado\n",
        "if resultado_mannwhitneyu.pvalue < 0.05:\n",
        "    print(\"Hay evidencia estadística para rechazar la hipótesis nula. Las muestras son diferentes.\")\n",
        "else:\n",
        "    print(\"No hay suficiente evidencia estadística para rechazar la hipótesis nula. Las muestras son similares.\")"
      ],
      "metadata": {
        "colab": {
          "base_uri": "https://localhost:8080/"
        },
        "id": "R70yyhxdU0lV",
        "outputId": "007b3645-22aa-4b84-ecdb-8d5354cad08b"
      },
      "execution_count": null,
      "outputs": [
        {
          "output_type": "stream",
          "name": "stdout",
          "text": [
            "Estadística de prueba U: 78667.0\n",
            "Valor p: 0.016152999609606006\n",
            "Hay evidencia estadística para rechazar la hipótesis nula. Las muestras son diferentes.\n"
          ]
        }
      ]
    },
    {
      "cell_type": "code",
      "source": [
        "import pandas as pd\n",
        "from scipy.stats import mannwhitneyu\n",
        "# Suponiendo que 'df' es tu DataFrame original\n",
        "df_mann = df[['stream_limpia', 'cat_stream', 'cat_dance', 'cat_valance', 'cat_energy', 'cat_acousticness', 'cat_instrumentalness', 'cat_liveness', 'cat_speechiness']].copy()\n",
        " #Convertir 'cat_dance' a valores de cadena\n",
        "df_mann['cat_valance'] = df_mann['cat_valance'].astype(str)\n",
        "df_mann['stream_limpia']=df_mann['stream_limpia'].astype(\"float\")\n",
        "# Separa las muestras en \"alto stream\" y \"bajo stream\" según la columna 'categoria'\n",
        "alto_stream = df_mann[df_mann['cat_valance'] == 'alto']['stream_limpia']\n",
        "bajo_stream = df_mann[df_mann['cat_valance'] == 'bajo']['stream_limpia']\n",
        "# Realiza la prueba de Mann-Whitney\n",
        "resultado_mannwhitneyu = mannwhitneyu(alto_stream, bajo_stream)\n",
        "# Imprime el resultado\n",
        "print(\"Estadística de prueba U:\", resultado_mannwhitneyu.statistic)\n",
        "print(\"Valor p:\", resultado_mannwhitneyu.pvalue)\n",
        "# Interpretación del resultado\n",
        "if resultado_mannwhitneyu.pvalue < 0.05:\n",
        "    print(\"Hay evidencia estadística para rechazar la hipótesis nula. Las muestras son diferentes.\")\n",
        "else:\n",
        "    print(\"No hay suficiente evidencia estadística para rechazar la hipótesis nula. Las muestras son similares.\")"
      ],
      "metadata": {
        "colab": {
          "base_uri": "https://localhost:8080/"
        },
        "id": "ctZ4oHc8z2FI",
        "outputId": "2f460969-c076-47d9-86b6-c4aebf1bb767"
      },
      "execution_count": null,
      "outputs": [
        {
          "output_type": "stream",
          "name": "stdout",
          "text": [
            "Estadística de prueba U: 80204.5\n",
            "Valor p: 0.24172851285964114\n",
            "No hay suficiente evidencia estadística para rechazar la hipótesis nula. Las muestras son similares.\n"
          ]
        }
      ]
    },
    {
      "cell_type": "code",
      "source": [
        "import pandas as pd\n",
        "from scipy.stats import mannwhitneyu\n",
        "# Suponiendo que 'df' es tu DataFrame original\n",
        "df_mann = df[['stream_limpia', 'cat_stream', 'cat_dance', 'cat_valance', 'cat_energy', 'cat_acousticness', 'cat_instrumentalness', 'cat_liveness', 'cat_speechiness']].copy()\n",
        " #Convertir 'cat_dance' a valores de cadena\n",
        "df_mann['cat_energy'] = df_mann['cat_energy'].astype(str)\n",
        "df_mann['stream_limpia']=df_mann['stream_limpia'].astype(\"float\")\n",
        "# Separa las muestras en \"alto stream\" y \"bajo stream\" según la columna 'categoria'\n",
        "alto_stream = df_mann[df_mann['cat_energy'] == 'alto']['stream_limpia']\n",
        "bajo_stream = df_mann[df_mann['cat_energy'] == 'bajo']['stream_limpia']\n",
        "# Realiza la prueba de Mann-Whitney\n",
        "resultado_mannwhitneyu = mannwhitneyu(alto_stream, bajo_stream)\n",
        "# Imprime el resultado\n",
        "print(\"Estadística de prueba U:\", resultado_mannwhitneyu.statistic)\n",
        "print(\"Valor p:\", resultado_mannwhitneyu.pvalue)\n",
        "# Interpretación del resultado\n",
        "if resultado_mannwhitneyu.pvalue < 0.05:\n",
        "    print(\"Hay evidencia estadística para rechazar la hipótesis nula. Las muestras son diferentes.\")\n",
        "else:\n",
        "    print(\"No hay suficiente evidencia estadística para rechazar la hipótesis nula. Las muestras son similares.\")"
      ],
      "metadata": {
        "colab": {
          "base_uri": "https://localhost:8080/"
        },
        "id": "xW8ErjHb0dus",
        "outputId": "480fb12d-6a6f-432f-84fb-b0f7716e6690"
      },
      "execution_count": null,
      "outputs": [
        {
          "output_type": "stream",
          "name": "stdout",
          "text": [
            "Estadística de prueba U: 81710.0\n",
            "Valor p: 0.4125790289707031\n",
            "No hay suficiente evidencia estadística para rechazar la hipótesis nula. Las muestras son similares.\n"
          ]
        }
      ]
    },
    {
      "cell_type": "code",
      "source": [
        "import pandas as pd\n",
        "from scipy.stats import mannwhitneyu\n",
        "# Suponiendo que 'df' es tu DataFrame original\n",
        "df_mann = df[['stream_limpia', 'cat_stream', 'cat_dance', 'cat_valance', 'cat_energy', 'cat_acousticness', 'cat_instrumentalness', 'cat_liveness', 'cat_speechiness']].copy()\n",
        " #Convertir 'cat_dance' a valores de cadena\n",
        "df_mann['cat_acousticness'] = df_mann['cat_acousticness'].astype(str)\n",
        "df_mann['stream_limpia']=df_mann['stream_limpia'].astype(\"float\")\n",
        "# Separa las muestras en \"alto stream\" y \"bajo stream\" según la columna 'categoria'\n",
        "alto_stream = df_mann[df_mann['cat_acousticness'] == 'alto']['stream_limpia']\n",
        "bajo_stream = df_mann[df_mann['cat_acousticness'] == 'bajo']['stream_limpia']\n",
        "# Realiza la prueba de Mann-Whitney\n",
        "resultado_mannwhitneyu = mannwhitneyu(alto_stream, bajo_stream)\n",
        "# Imprime el resultado\n",
        "print(\"Estadística de prueba U:\", resultado_mannwhitneyu.statistic)\n",
        "print(\"Valor p:\", resultado_mannwhitneyu.pvalue)\n",
        "# Interpretación del resultado\n",
        "if resultado_mannwhitneyu.pvalue < 0.05:\n",
        "    print(\"Hay evidencia estadística para rechazar la hipótesis nula. Las muestras son diferentes.\")\n",
        "else:\n",
        "    print(\"No hay suficiente evidencia estadística para rechazar la hipótesis nula. Las muestras son similares.\")"
      ],
      "metadata": {
        "colab": {
          "base_uri": "https://localhost:8080/"
        },
        "id": "DzSxCrpz0lbJ",
        "outputId": "67c7be9a-7e71-4eba-8aa2-26c9703d2c16"
      },
      "execution_count": null,
      "outputs": [
        {
          "output_type": "stream",
          "name": "stdout",
          "text": [
            "Estadística de prueba U: 83066.0\n",
            "Valor p: 0.7470660746367352\n",
            "No hay suficiente evidencia estadística para rechazar la hipótesis nula. Las muestras son similares.\n"
          ]
        }
      ]
    },
    {
      "cell_type": "code",
      "source": [
        "import pandas as pd\n",
        "from scipy.stats import mannwhitneyu\n",
        "# Suponiendo que 'df' es tu DataFrame original\n",
        "df_mann = df[['stream_limpia', 'cat_stream', 'cat_dance', 'cat_valance', 'cat_energy', 'cat_acousticness', 'cat_instrumentalness', 'cat_liveness', 'cat_speechiness']].copy()\n",
        " #Convertir 'cat_dance' a valores de cadena\n",
        "df_mann['cat_instrumentalness'] = df_mann['cat_instrumentalness'].astype(str)\n",
        "df_mann['stream_limpia']=df_mann['stream_limpia'].astype(\"float\")\n",
        "# Separa las muestras en \"alto stream\" y \"bajo stream\" según la columna 'categoria'\n",
        "alto_stream = df_mann[df_mann['cat_instrumentalness'] == 'alto']['stream_limpia']\n",
        "bajo_stream = df_mann[df_mann['cat_instrumentalness'] == 'bajo']['stream_limpia']\n",
        "# Realiza la prueba de Mann-Whitney\n",
        "resultado_mannwhitneyu = mannwhitneyu(alto_stream, bajo_stream)\n",
        "# Imprime el resultado\n",
        "print(\"Estadística de prueba U:\", resultado_mannwhitneyu.statistic)\n",
        "print(\"Valor p:\", resultado_mannwhitneyu.pvalue)\n",
        "# Interpretación del resultado\n",
        "if resultado_mannwhitneyu.pvalue < 0.05:\n",
        "    print(\"Hay evidencia estadística para rechazar la hipótesis nula. Las muestras son diferentes.\")\n",
        "else:\n",
        "    print(\"No hay suficiente evidencia estadística para rechazar la hipótesis nula. Las muestras son similares.\")"
      ],
      "metadata": {
        "colab": {
          "base_uri": "https://localhost:8080/"
        },
        "id": "xH8CCt5f1Fbr",
        "outputId": "38ead352-2688-4eee-ae94-2f46999f487c"
      },
      "execution_count": null,
      "outputs": [
        {
          "output_type": "stream",
          "name": "stdout",
          "text": [
            "Estadística de prueba U: 36240.0\n",
            "Valor p: 0.9393643997784231\n",
            "No hay suficiente evidencia estadística para rechazar la hipótesis nula. Las muestras son similares.\n"
          ]
        }
      ]
    },
    {
      "cell_type": "code",
      "source": [
        "import pandas as pd\n",
        "from scipy.stats import mannwhitneyu\n",
        "# Suponiendo que 'df' es tu DataFrame original\n",
        "df_mann = df[['stream_limpia', 'cat_stream', 'cat_dance', 'cat_valance', 'cat_energy', 'cat_acousticness', 'cat_instrumentalness', 'cat_liveness', 'cat_speechiness']].copy()\n",
        " #Convertir 'cat_dance' a valores de cadena\n",
        "df_mann['cat_liveness'] = df_mann['cat_liveness'].astype(str)\n",
        "df_mann['stream_limpia']=df_mann['stream_limpia'].astype(\"float\")\n",
        "# Separa las muestras en \"alto stream\" y \"bajo stream\" según la columna 'categoria'\n",
        "alto_stream = df_mann[df_mann['cat_liveness'] == 'alto']['stream_limpia']\n",
        "bajo_stream = df_mann[df_mann['cat_liveness'] == 'bajo']['stream_limpia']\n",
        "# Realiza la prueba de Mann-Whitney\n",
        "resultado_mannwhitneyu = mannwhitneyu(alto_stream, bajo_stream)\n",
        "# Imprime el resultado\n",
        "print(\"Estadística de prueba U:\", resultado_mannwhitneyu.statistic)\n",
        "print(\"Valor p:\", resultado_mannwhitneyu.pvalue)\n",
        "# Interpretación del resultado\n",
        "if resultado_mannwhitneyu.pvalue < 0.05:\n",
        "    print(\"Hay evidencia estadística para rechazar la hipótesis nula. Las muestras son diferentes.\")\n",
        "else:\n",
        "    print(\"No hay suficiente evidencia estadística para rechazar la hipótesis nula. Las muestras son similares.\")"
      ],
      "metadata": {
        "colab": {
          "base_uri": "https://localhost:8080/"
        },
        "id": "g_Vd3kWI1TvB",
        "outputId": "bc47d4ca-3241-4b1e-b84a-7dfa0e6312d3"
      },
      "execution_count": null,
      "outputs": [
        {
          "output_type": "stream",
          "name": "stdout",
          "text": [
            "Estadística de prueba U: 81831.0\n",
            "Valor p: 0.2760050822734865\n",
            "No hay suficiente evidencia estadística para rechazar la hipótesis nula. Las muestras son similares.\n"
          ]
        }
      ]
    },
    {
      "cell_type": "code",
      "source": [
        "import pandas as pd\n",
        "from scipy.stats import mannwhitneyu\n",
        "# Suponiendo que 'df' es tu DataFrame original\n",
        "df_mann = df[['stream_limpia', 'cat_stream', 'cat_dance', 'cat_valance', 'cat_energy', 'cat_acousticness', 'cat_instrumentalness', 'cat_liveness', 'cat_speechiness']].copy()\n",
        " #Convertir 'cat_dance' a valores de cadena\n",
        "df_mann['cat_speechiness'] = df_mann['cat_speechiness'].astype(str)\n",
        "df_mann['stream_limpia']=df_mann['stream_limpia'].astype(\"float\")\n",
        "# Separa las muestras en \"alto stream\" y \"bajo stream\" según la columna 'categoria'\n",
        "alto_stream = df_mann[df_mann['cat_speechiness'] == 'alto']['stream_limpia']\n",
        "bajo_stream = df_mann[df_mann['cat_speechiness'] == 'bajo']['stream_limpia']\n",
        "# Realiza la prueba de Mann-Whitney\n",
        "resultado_mannwhitneyu = mannwhitneyu(alto_stream, bajo_stream)\n",
        "# Imprime el resultado\n",
        "print(\"Estadística de prueba U:\", resultado_mannwhitneyu.statistic)\n",
        "print(\"Valor p:\", resultado_mannwhitneyu.pvalue)\n",
        "# Interpretación del resultado\n",
        "if resultado_mannwhitneyu.pvalue < 0.05:\n",
        "    print(\"Hay evidencia estadística para rechazar la hipótesis nula. Las muestras son diferentes.\")\n",
        "else:\n",
        "    print(\"No hay suficiente evidencia estadística para rechazar la hipótesis nula. Las muestras son similares.\")"
      ],
      "metadata": {
        "colab": {
          "base_uri": "https://localhost:8080/"
        },
        "id": "iRQ-4Gbx1eH6",
        "outputId": "d469697b-feac-4896-dd47-c93cebcbf252"
      },
      "execution_count": null,
      "outputs": [
        {
          "output_type": "stream",
          "name": "stdout",
          "text": [
            "Estadística de prueba U: 79206.0\n",
            "Valor p: 0.02381067793217145\n",
            "Hay evidencia estadística para rechazar la hipótesis nula. Las muestras son diferentes.\n"
          ]
        }
      ]
    },
    {
      "cell_type": "markdown",
      "source": [
        "**Hito 2 | Representar datos a través de tabla resumen o scorecards**"
      ],
      "metadata": {
        "id": "ZDXMBtt4SpgK"
      }
    },
    {
      "cell_type": "code",
      "source": [
        "import pandas as pd\n",
        "import numpy as np\n",
        "# Suponiendo que 'df' es tu DataFrame original\n",
        "df_resumen = df[['stream_limpia', 'cat_dance', 'cat_valance', 'cat_energy', 'cat_acousticness', 'cat_instrumentalness', 'cat_liveness', 'cat_speechiness']].copy()\n",
        "# Convertir 'cat_dance' a valores de cadena\n",
        "df_resumen['cat_dance'] = df_resumen['cat_dance'].astype(str)\n",
        "df_resumen['stream_limpia']=df_resumen['stream_limpia'].astype(\"float\")\n",
        "# Agrupar por 'cat_valence' y 'cat_dance'\n",
        "grupos_valence_dance = df_resumen.groupby(['cat_valance'])\n",
        "# Calcular el promedio, desviación estándar, máximo, mínimo y conteo de 'stream_limpia' para cada grupo\n",
        "promedio_stream = grupos_valence_dance['stream_limpia'].mean()\n",
        "std_stream = grupos_valence_dance['stream_limpia'].std()\n",
        "max_stream = grupos_valence_dance['stream_limpia'].max()\n",
        "min_stream = grupos_valence_dance['stream_limpia'].min()\n",
        "count_stream = grupos_valence_dance['stream_limpia'].count()\n",
        "# Crear un nuevo DataFrame con los resultados\n",
        "df_resumen1 = pd.DataFrame({\n",
        "    'Cat_Valence': promedio_stream.index.get_level_values('cat_valance'),\n",
        "    'Promedio_Stream': promedio_stream.values,\n",
        "    'Desviacion_Estandar_Stream': std_stream.values,\n",
        "    'Max_Stream': max_stream.values,\n",
        "    'Min_Stream': min_stream.values,\n",
        "    'Conteo_Stream': count_stream.values,\n",
        "    })\n",
        "df_resumen = df[['stream_limpia', 'cat_dance', 'cat_valance', 'cat_energy', 'cat_acousticness', 'cat_instrumentalness', 'cat_liveness', 'cat_speechiness']]\n",
        "# Agrupar por 'cat_valence' y 'cat_dance'\n",
        "grupos_cat_dace = df_resumen.groupby(['cat_dance'])\n",
        "# Convertir 'cat_dance' a valores de cadena\n",
        "df_resumen['cat_dance'] = df_resumen['cat_dance'].astype(str)\n",
        "df_resumen['stream_limpia']=df_resumen['stream_limpia'].astype(\"float\")\n",
        "# Agrupar por 'cat_valence' y 'cat_dance'\n",
        "grupos_valence_dance = df_resumen.groupby(['cat_dance'])\n",
        "# Calcular el promedio, desviación estándar, máximo, mínimo y conteo de 'stream_limpia' para cada grupo\n",
        "promedio_stream = grupos_valence_dance['stream_limpia'].mean()\n",
        "std_stream = grupos_valence_dance['stream_limpia'].std()\n",
        "max_stream = grupos_valence_dance['stream_limpia'].max()\n",
        "min_stream = grupos_valence_dance['stream_limpia'].min()\n",
        "count_stream = grupos_valence_dance['stream_limpia'].count()\n",
        "# Crear un nuevo DataFrame con los resultados\n",
        "df_resumen2 = pd.DataFrame({\n",
        "    'Cat_Dance': promedio_stream.index.get_level_values('cat_dance'),\n",
        "    'Promedio_Stream': promedio_stream.values,\n",
        "    'Desviacion_Estandar_Stream': std_stream.values,\n",
        "    'Max_Stream': max_stream.values,\n",
        "    'Min_Stream': min_stream.values,\n",
        "    'Conteo_Stream': count_stream.values,\n",
        "    })\n",
        "df_resumen = df[['stream_limpia', 'cat_dance', 'cat_valance', 'cat_energy', 'cat_acousticness', 'cat_instrumentalness', 'cat_liveness', 'cat_speechiness']]\n",
        "# Agrupar por 'cat_valence' y 'cat_dance'\n",
        "grupos_cat_energy = df_resumen.groupby(['cat_energy'])\n",
        "# Convertir 'cat_dance' a valores de cadena\n",
        "df_resumen['cat_energy'] = df_resumen['cat_energy'].astype(str)\n",
        "df_resumen['stream_limpia']=df_resumen['stream_limpia'].astype(\"float\")\n",
        "# Agrupar por 'cat_valence' y 'cat_dance'\n",
        "grupos_cat_valence = df_resumen.groupby(['cat_valance'])\n",
        "# Calcular el promedio, desviación estándar, máximo, mínimo y conteo de 'stream_limpia' para cada grupo\n",
        "promedio_stream = grupos_cat_energy['stream_limpia'].mean()\n",
        "std_stream = grupos_cat_energy['stream_limpia'].std()\n",
        "max_stream = grupos_cat_energy['stream_limpia'].max()\n",
        "min_stream = grupos_cat_energy['stream_limpia'].min()\n",
        "count_stream = grupos_cat_energy['stream_limpia'].count()\n",
        "# Crear un nuevo DataFrame con los resultados\n",
        "df_resumen3 = pd.DataFrame({\n",
        "    'cat_energy': promedio_stream.index.get_level_values('cat_energy'),\n",
        "    'Promedio_Stream': promedio_stream.values,\n",
        "    'Desviacion_Estandar_Stream': std_stream.values,\n",
        "    'Max_Stream': max_stream.values,\n",
        "    'Min_Stream': min_stream.values,\n",
        "    'Conteo_Stream': count_stream.values,\n",
        "    })\n",
        "df_resumen = df[['stream_limpia', 'cat_dance', 'cat_valance', 'cat_energy', 'cat_acousticness', 'cat_instrumentalness', 'cat_liveness', 'cat_speechiness']]\n",
        "# Agrupar por 'cat_valence' y 'cat_dance'\n",
        "grupos_cat_acousticness = df_resumen.groupby(['cat_acousticness'])\n",
        "# Convertir 'cat_dance' a valores de cadena\n",
        "df_resumen['cat_acousticness'] = df_resumen['cat_acousticness'].astype(str)\n",
        "df_resumen['stream_limpia']=df_resumen['stream_limpia'].astype(\"float\")\n",
        "# Agrupar por 'cat_valence' y 'cat_dance'\n",
        "grupos_cat_valence = df_resumen.groupby(['cat_valance'])\n",
        "# Calcular el promedio, desviación estándar, máximo, mínimo y conteo de 'stream_limpia' para cada grupo\n",
        "promedio_stream = grupos_cat_acousticness['stream_limpia'].mean()\n",
        "std_stream = grupos_cat_acousticness['stream_limpia'].std()\n",
        "max_stream = grupos_cat_acousticness['stream_limpia'].max()\n",
        "min_stream = grupos_cat_acousticness['stream_limpia'].min()\n",
        "count_stream = grupos_cat_acousticness['stream_limpia'].count()\n",
        "# Crear un nuevo DataFrame con los resultados\n",
        "df_resumen4 = pd.DataFrame({\n",
        "    'cat_acousticness': promedio_stream.index.get_level_values('cat_acousticness'),\n",
        "    'Promedio_Stream': promedio_stream.values,\n",
        "    'Desviacion_Estandar_Stream': std_stream.values,\n",
        "    'Max_Stream': max_stream.values,\n",
        "    'Min_Stream': min_stream.values,\n",
        "    'Conteo_Stream': count_stream.values,\n",
        "    })\n",
        "df_resumen = df[['stream_limpia', 'cat_dance', 'cat_valance', 'cat_energy', 'cat_acousticness', 'cat_instrumentalness', 'cat_liveness', 'cat_speechiness']]\n",
        "# Agrupar por 'cat_valence' y 'cat_dance'\n",
        "grupos_cat_acousticness = df_resumen.groupby(['cat_instrumentalness'])\n",
        "# Convertir 'cat_dance' a valores de cadena\n",
        "df_resumen['cat_instrumentalness'] = df_resumen['cat_instrumentalness'].astype(str)\n",
        "df_resumen['stream_limpia']=df_resumen['stream_limpia'].astype(\"float\")\n",
        "# Agrupar por 'cat_valence' y 'cat_dance'\n",
        "grupos_cat_instrumentalness = df_resumen.groupby(['cat_instrumentalness'])\n",
        "# Calcular el promedio, desviación estándar, máximo, mínimo y conteo de 'stream_limpia' para cada grupo\n",
        "promedio_stream = grupos_cat_instrumentalness['stream_limpia'].mean()\n",
        "std_stream = grupos_cat_instrumentalness['stream_limpia'].std()\n",
        "max_stream = grupos_cat_instrumentalness['stream_limpia'].max()\n",
        "min_stream = grupos_cat_instrumentalness['stream_limpia'].min()\n",
        "count_stream = grupos_cat_instrumentalness['stream_limpia'].count()\n",
        "# Crear un nuevo DataFrame con los resultados\n",
        "df_resumen5 = pd.DataFrame({\n",
        "    'cat_instrumentalness': promedio_stream.index.get_level_values('cat_instrumentalness'),\n",
        "    'Promedio_Stream': promedio_stream.values,\n",
        "    'Desviacion_Estandar_Stream': std_stream.values,\n",
        "    'Max_Stream': max_stream.values,\n",
        "    'Min_Stream': min_stream.values,\n",
        "    'Conteo_Stream': count_stream.values,\n",
        "    })\n",
        "df_resumen = df[['stream_limpia', 'cat_dance', 'cat_valance', 'cat_energy', 'cat_acousticness', 'cat_instrumentalness', 'cat_liveness', 'cat_speechiness']]\n",
        "# Agrupar por 'cat_valence' y 'cat_dance'\n",
        "grupos_cat_acousticness = df_resumen.groupby(['cat_liveness'])\n",
        "# Convertir 'cat_dance' a valores de cadena\n",
        "df_resumen['cat_liveness'] = df_resumen['cat_liveness'].astype(str)\n",
        "df_resumen['stream_limpia']=df_resumen['stream_limpia'].astype(\"float\")\n",
        "# Agrupar por 'cat_valence' y 'cat_dance'\n",
        "grupos_cat_liveness = df_resumen.groupby(['cat_liveness'])\n",
        "# Calcular el promedio, desviación estándar, máximo, mínimo y conteo de 'stream_limpia' para cada grupo\n",
        "promedio_stream = grupos_cat_liveness['stream_limpia'].mean()\n",
        "std_stream = grupos_cat_liveness['stream_limpia'].std()\n",
        "max_stream = grupos_cat_liveness['stream_limpia'].max()\n",
        "min_stream = grupos_cat_liveness['stream_limpia'].min()\n",
        "count_stream = grupos_cat_liveness['stream_limpia'].count()\n",
        "# Crear un nuevo DataFrame con los resultados\n",
        "df_resumen6 = pd.DataFrame({\n",
        "    'cat_liveness': promedio_stream.index.get_level_values('cat_liveness'),\n",
        "    'Promedio_Stream': promedio_stream.values,\n",
        "    'Desviacion_Estandar_Stream': std_stream.values,\n",
        "    'Max_Stream': max_stream.values,\n",
        "    'Min_Stream': min_stream.values,\n",
        "    'Conteo_Stream': count_stream.values,\n",
        "    })\n",
        "df_resumen = df[['stream_limpia', 'cat_dance', 'cat_valance', 'cat_energy', 'cat_acousticness', 'cat_instrumentalness', 'cat_liveness', 'cat_speechiness']]\n",
        "# Agrupar por 'cat_valence' y 'cat_dance'\n",
        "grupos_cat_acousticness = df_resumen.groupby(['cat_speechiness'])\n",
        "# Convertir 'cat_dance' a valores de cadena\n",
        "df_resumen['cat_speechiness'] = df_resumen['cat_speechiness'].astype(str)\n",
        "df_resumen['stream_limpia']=df_resumen['stream_limpia'].astype(\"float\")\n",
        "# Agrupar por 'cat_valence' y 'cat_dance'\n",
        "grupos_cat_speechiness = df_resumen.groupby(['cat_speechiness'])\n",
        "# Calcular el promedio, desviación estándar, máximo, mínimo y conteo de 'stream_limpia' para cada grupo\n",
        "promedio_stream = grupos_cat_speechiness['stream_limpia'].mean()\n",
        "std_stream = grupos_cat_speechiness['stream_limpia'].std()\n",
        "max_stream = grupos_cat_speechiness['stream_limpia'].max()\n",
        "min_stream = grupos_cat_speechiness['stream_limpia'].min()\n",
        "count_stream = grupos_cat_speechiness['stream_limpia'].count()\n",
        "# Crear un nuevo DataFrame con los resultados\n",
        "df_resumen7 = pd.DataFrame({\n",
        "    'cat_speechiness': promedio_stream.index.get_level_values('cat_speechiness'),\n",
        "    'Promedio_Stream': promedio_stream.values,\n",
        "    'Desviacion_Estandar_Stream': std_stream.values,\n",
        "    'Max_Stream': max_stream.values,\n",
        "    'Min_Stream': min_stream.values,\n",
        "    'Conteo_Stream': count_stream.values,\n",
        "    })\n",
        "# Unir las dos tablas\n",
        "df_final = pd.merge(df_resumen1, df_resumen2, how='outer')\n",
        "df_final = pd.merge(df_final, df_resumen3, how='outer')\n",
        "df_final = pd.merge(df_final, df_resumen4, how='outer')\n",
        "df_final = pd.merge(df_final, df_resumen5, how='outer')\n",
        "df_final = pd.merge(df_final, df_resumen6, how='outer')\n",
        "df_final = pd.merge(df_final, df_resumen7, how='outer')\n",
        "# Mostrar la tabla resumen\n",
        "print(df_final)"
      ],
      "metadata": {
        "colab": {
          "base_uri": "https://localhost:8080/"
        },
        "id": "4G4oFxbvTFv0",
        "outputId": "948cbcab-952a-4c79-b7f2-323102ad47e5"
      },
      "execution_count": null,
      "outputs": [
        {
          "output_type": "stream",
          "name": "stdout",
          "text": [
            "   Cat_Valence  Promedio_Stream  Desviacion_Estandar_Stream    Max_Stream  \\\n",
            "0         alto     4.657968e+08                5.339377e+08  3.562544e+09   \n",
            "1         bajo     5.310637e+08                5.807142e+08  3.703895e+09   \n",
            "2          NaN     4.234953e+08                4.849870e+08  3.562544e+09   \n",
            "3          NaN     5.480951e+08                5.946979e+08  3.703895e+09   \n",
            "4          NaN     5.001409e+08                5.695861e+08  3.703895e+09   \n",
            "5          NaN     5.192837e+08                5.698588e+08  3.562544e+09   \n",
            "6          NaN     5.373234e+08                6.304437e+08  3.562544e+09   \n",
            "7          NaN     5.065171e+08                5.474402e+08  3.703895e+09   \n",
            "8          NaN     4.457470e+08                4.194150e+08  2.282771e+09   \n",
            "9          NaN     5.211717e+08                5.820820e+08  3.703895e+09   \n",
            "10         NaN     4.980793e+08                5.572034e+08  2.713922e+09   \n",
            "11         NaN     5.201541e+08                5.741551e+08  3.703895e+09   \n",
            "12         NaN     4.243518e+08                4.677901e+08  2.594040e+09   \n",
            "13         NaN     5.477772e+08                5.998426e+08  3.703895e+09   \n",
            "\n",
            "    Min_Stream  Conteo_Stream Cat_Dance cat_energy cat_acousticness  \\\n",
            "0          0.0            241       NaN        NaN              NaN   \n",
            "1    1365184.0            701       NaN        NaN              NaN   \n",
            "2    1365184.0            255      alto        NaN              NaN   \n",
            "3          0.0            687      bajo        NaN              NaN   \n",
            "4   11599388.0            242       NaN       alto              NaN   \n",
            "5          0.0            700       NaN       bajo              NaN   \n",
            "6   16011326.0            240       NaN        NaN             alto   \n",
            "7          0.0            702       NaN        NaN             bajo   \n",
            "8   31959571.0             85       NaN        NaN              NaN   \n",
            "9          0.0            857       NaN        NaN              NaN   \n",
            "10   1365184.0            247       NaN        NaN              NaN   \n",
            "11         0.0            695       NaN        NaN              NaN   \n",
            "12  11956641.0            255       NaN        NaN              NaN   \n",
            "13         0.0            687       NaN        NaN              NaN   \n",
            "\n",
            "   cat_instrumentalness cat_liveness cat_speechiness  \n",
            "0                   NaN          NaN             NaN  \n",
            "1                   NaN          NaN             NaN  \n",
            "2                   NaN          NaN             NaN  \n",
            "3                   NaN          NaN             NaN  \n",
            "4                   NaN          NaN             NaN  \n",
            "5                   NaN          NaN             NaN  \n",
            "6                   NaN          NaN             NaN  \n",
            "7                   NaN          NaN             NaN  \n",
            "8                  alto          NaN             NaN  \n",
            "9                  bajo          NaN             NaN  \n",
            "10                  NaN         alto             NaN  \n",
            "11                  NaN         bajo             NaN  \n",
            "12                  NaN          NaN            alto  \n",
            "13                  NaN          NaN            bajo  \n"
          ]
        },
        {
          "output_type": "stream",
          "name": "stderr",
          "text": [
            "<ipython-input-6-5ab5bd5ccaa7>:29: SettingWithCopyWarning: \n",
            "A value is trying to be set on a copy of a slice from a DataFrame.\n",
            "Try using .loc[row_indexer,col_indexer] = value instead\n",
            "\n",
            "See the caveats in the documentation: https://pandas.pydata.org/pandas-docs/stable/user_guide/indexing.html#returning-a-view-versus-a-copy\n",
            "  df_resumen['cat_dance'] = df_resumen['cat_dance'].astype(str)\n",
            "<ipython-input-6-5ab5bd5ccaa7>:30: SettingWithCopyWarning: \n",
            "A value is trying to be set on a copy of a slice from a DataFrame.\n",
            "Try using .loc[row_indexer,col_indexer] = value instead\n",
            "\n",
            "See the caveats in the documentation: https://pandas.pydata.org/pandas-docs/stable/user_guide/indexing.html#returning-a-view-versus-a-copy\n",
            "  df_resumen['stream_limpia']=df_resumen['stream_limpia'].astype(\"float\")\n",
            "<ipython-input-6-5ab5bd5ccaa7>:52: SettingWithCopyWarning: \n",
            "A value is trying to be set on a copy of a slice from a DataFrame.\n",
            "Try using .loc[row_indexer,col_indexer] = value instead\n",
            "\n",
            "See the caveats in the documentation: https://pandas.pydata.org/pandas-docs/stable/user_guide/indexing.html#returning-a-view-versus-a-copy\n",
            "  df_resumen['cat_energy'] = df_resumen['cat_energy'].astype(str)\n",
            "<ipython-input-6-5ab5bd5ccaa7>:53: SettingWithCopyWarning: \n",
            "A value is trying to be set on a copy of a slice from a DataFrame.\n",
            "Try using .loc[row_indexer,col_indexer] = value instead\n",
            "\n",
            "See the caveats in the documentation: https://pandas.pydata.org/pandas-docs/stable/user_guide/indexing.html#returning-a-view-versus-a-copy\n",
            "  df_resumen['stream_limpia']=df_resumen['stream_limpia'].astype(\"float\")\n",
            "<ipython-input-6-5ab5bd5ccaa7>:75: SettingWithCopyWarning: \n",
            "A value is trying to be set on a copy of a slice from a DataFrame.\n",
            "Try using .loc[row_indexer,col_indexer] = value instead\n",
            "\n",
            "See the caveats in the documentation: https://pandas.pydata.org/pandas-docs/stable/user_guide/indexing.html#returning-a-view-versus-a-copy\n",
            "  df_resumen['cat_acousticness'] = df_resumen['cat_acousticness'].astype(str)\n",
            "<ipython-input-6-5ab5bd5ccaa7>:76: SettingWithCopyWarning: \n",
            "A value is trying to be set on a copy of a slice from a DataFrame.\n",
            "Try using .loc[row_indexer,col_indexer] = value instead\n",
            "\n",
            "See the caveats in the documentation: https://pandas.pydata.org/pandas-docs/stable/user_guide/indexing.html#returning-a-view-versus-a-copy\n",
            "  df_resumen['stream_limpia']=df_resumen['stream_limpia'].astype(\"float\")\n",
            "<ipython-input-6-5ab5bd5ccaa7>:98: SettingWithCopyWarning: \n",
            "A value is trying to be set on a copy of a slice from a DataFrame.\n",
            "Try using .loc[row_indexer,col_indexer] = value instead\n",
            "\n",
            "See the caveats in the documentation: https://pandas.pydata.org/pandas-docs/stable/user_guide/indexing.html#returning-a-view-versus-a-copy\n",
            "  df_resumen['cat_instrumentalness'] = df_resumen['cat_instrumentalness'].astype(str)\n",
            "<ipython-input-6-5ab5bd5ccaa7>:99: SettingWithCopyWarning: \n",
            "A value is trying to be set on a copy of a slice from a DataFrame.\n",
            "Try using .loc[row_indexer,col_indexer] = value instead\n",
            "\n",
            "See the caveats in the documentation: https://pandas.pydata.org/pandas-docs/stable/user_guide/indexing.html#returning-a-view-versus-a-copy\n",
            "  df_resumen['stream_limpia']=df_resumen['stream_limpia'].astype(\"float\")\n",
            "<ipython-input-6-5ab5bd5ccaa7>:121: SettingWithCopyWarning: \n",
            "A value is trying to be set on a copy of a slice from a DataFrame.\n",
            "Try using .loc[row_indexer,col_indexer] = value instead\n",
            "\n",
            "See the caveats in the documentation: https://pandas.pydata.org/pandas-docs/stable/user_guide/indexing.html#returning-a-view-versus-a-copy\n",
            "  df_resumen['cat_liveness'] = df_resumen['cat_liveness'].astype(str)\n",
            "<ipython-input-6-5ab5bd5ccaa7>:122: SettingWithCopyWarning: \n",
            "A value is trying to be set on a copy of a slice from a DataFrame.\n",
            "Try using .loc[row_indexer,col_indexer] = value instead\n",
            "\n",
            "See the caveats in the documentation: https://pandas.pydata.org/pandas-docs/stable/user_guide/indexing.html#returning-a-view-versus-a-copy\n",
            "  df_resumen['stream_limpia']=df_resumen['stream_limpia'].astype(\"float\")\n",
            "<ipython-input-6-5ab5bd5ccaa7>:144: SettingWithCopyWarning: \n",
            "A value is trying to be set on a copy of a slice from a DataFrame.\n",
            "Try using .loc[row_indexer,col_indexer] = value instead\n",
            "\n",
            "See the caveats in the documentation: https://pandas.pydata.org/pandas-docs/stable/user_guide/indexing.html#returning-a-view-versus-a-copy\n",
            "  df_resumen['cat_speechiness'] = df_resumen['cat_speechiness'].astype(str)\n",
            "<ipython-input-6-5ab5bd5ccaa7>:145: SettingWithCopyWarning: \n",
            "A value is trying to be set on a copy of a slice from a DataFrame.\n",
            "Try using .loc[row_indexer,col_indexer] = value instead\n",
            "\n",
            "See the caveats in the documentation: https://pandas.pydata.org/pandas-docs/stable/user_guide/indexing.html#returning-a-view-versus-a-copy\n",
            "  df_resumen['stream_limpia']=df_resumen['stream_limpia'].astype(\"float\")\n"
          ]
        }
      ]
    },
    {
      "cell_type": "markdown",
      "source": [
        "**Hito 3 | Regresión lineal**"
      ],
      "metadata": {
        "id": "UUJz0RxmO_xH"
      }
    },
    {
      "cell_type": "code",
      "source": [
        "# Importar bibliotecas necesarias\n",
        "import numpy as np\n",
        "import pandas as pd\n",
        "import matplotlib.pyplot as plt\n",
        "from sklearn.model_selection import train_test_split\n",
        "from sklearn.linear_model import LinearRegression\n",
        "from sklearn.metrics import mean_squared_error\n",
        "\n",
        "# Supongamos que df es tu DataFrame con los datos desde BigQuery\n",
        "# Puedes cargar los datos de BigQuery a un DataFrame así:\n",
        "# df = pd.read_gbq(\"SELECT * FROM tu_tabla\", project_id=\"tu_proyecto\")\n",
        "\n",
        "# Seleccionar las variables de interés\n",
        "df = df[['bpm', 'stream_limpia']]\n",
        "\n",
        "# Dividir los datos en conjuntos de entrenamiento y prueba\n",
        "X = df[['bpm']]\n",
        "y = df['stream_limpia']\n",
        "X_train, X_test, y_train, y_test = train_test_split(X, y, test_size=0.2, random_state=42)\n",
        "\n",
        "# Crear un modelo de regresión lineal\n",
        "model = LinearRegression()\n",
        "\n",
        "# Entrenar el modelo\n",
        "model.fit(X_train, y_train)\n",
        "\n",
        "# Hacer predicciones en el conjunto de prueba\n",
        "y_pred = model.predict(X_test)\n",
        "\n",
        "# Calcular el error cuadrático medio en el conjunto de prueba\n",
        "mse = mean_squared_error(y_test, y_pred)\n",
        "print(f\"Error Cuadrático Medio en el conjunto de prueba: {mse}\")\n",
        "\n",
        "# Visualizar los resultados\n",
        "plt.scatter(X_test, y_test, color='black')\n",
        "plt.plot(X_test, y_pred, color='blue', linewidth=3)\n",
        "plt.xlabel('bpm')\n",
        "plt.ylabel('stream_limpia')\n",
        "plt.title('Regresión Lineal: bpm vs stream_limpia')\n",
        "plt.show()\n"
      ],
      "metadata": {
        "colab": {
          "base_uri": "https://localhost:8080/",
          "height": 489
        },
        "id": "ocq4Q9zF7OYt",
        "outputId": "fed1a346-577d-4d81-be2b-cf4424263cb7"
      },
      "execution_count": null,
      "outputs": [
        {
          "output_type": "stream",
          "name": "stdout",
          "text": [
            "Error Cuadrático Medio en el conjunto de prueba: 2.825573085358858e+17\n"
          ]
        },
        {
          "output_type": "display_data",
          "data": {
            "text/plain": [
              "<Figure size 640x480 with 1 Axes>"
            ],
            "image/png": "[encoded data removed]"
          },
          "metadata": {}
        }
      ]
    },
    {
      "cell_type": "code",
      "source": [
        "# Importar bibliotecas necesarias\n",
        "import numpy as np\n",
        "import pandas as pd\n",
        "import matplotlib.pyplot as plt\n",
        "from sklearn.model_selection import train_test_split\n",
        "from sklearn.linear_model import LinearRegression\n",
        "from sklearn.metrics import mean_squared_error\n",
        "\n",
        "# Supongamos que df es tu DataFrame con los datos desde BigQuery\n",
        "# Puedes cargar los datos de BigQuery a un DataFrame así:\n",
        "# df = pd.read_gbq(\"SELECT * FROM tu_tabla\", project_id=\"tu_proyecto\")\n",
        "\n",
        "# Seleccionar las variables de interés\n",
        "df = df[['in_spotify_charts', 'in_deezer_charts']]\n",
        "\n",
        "# Dividir los datos en conjuntos de entrenamiento y prueba\n",
        "X = df[['in_spotify_charts']]\n",
        "y = df['in_deezer_charts']\n",
        "X_train, X_test, y_train, y_test = train_test_split(X, y, test_size=0.2, random_state=42)\n",
        "\n",
        "# Crear un modelo de regresión lineal\n",
        "model = LinearRegression()\n",
        "\n",
        "# Entrenar el modelo\n",
        "model.fit(X_train, y_train)\n",
        "\n",
        "# Hacer predicciones en el conjunto de prueba\n",
        "y_pred = model.predict(X_test)\n",
        "\n",
        "# Calcular el error cuadrático medio en el conjunto de prueba\n",
        "mse = mean_squared_error(y_test, y_pred)\n",
        "print(f\"Error Cuadrático Medio en el conjunto de prueba: {mse}\")\n",
        "\n",
        "# Visualizar los resultados\n",
        "plt.scatter(X_test, y_test, color='black')\n",
        "plt.plot(X_test, y_pred, color='blue', linewidth=3)\n",
        "plt.xlabel('in_spotify_charts')\n",
        "plt.ylabel('in_deezer_charts')\n",
        "plt.title('Regresión Lineal: in_spotify_charts vs in_deezer_charts')\n",
        "plt.show()"
      ],
      "metadata": {
        "colab": {
          "base_uri": "https://localhost:8080/",
          "height": 489
        },
        "id": "FqHNbxLQLzqu",
        "outputId": "5f822179-7d7c-481c-8702-7b1cd2060659"
      },
      "execution_count": null,
      "outputs": [
        {
          "output_type": "stream",
          "name": "stdout",
          "text": [
            "Error Cuadrático Medio en el conjunto de prueba: 21.92792090528251\n"
          ]
        },
        {
          "output_type": "display_data",
          "data": {
            "text/plain": [
              "<Figure size 640x480 with 1 Axes>"
            ],
            "image/png": "[encoded data removed]"
          },
          "metadata": {}
        }
      ]
    },
    {
      "cell_type": "code",
      "source": [
        "# Importar bibliotecas necesarias\n",
        "import numpy as np\n",
        "import pandas as pd\n",
        "import matplotlib.pyplot as plt\n",
        "from sklearn.model_selection import train_test_split\n",
        "from sklearn.linear_model import LinearRegression\n",
        "from sklearn.metrics import mean_squared_error\n",
        "\n",
        "# Supongamos que df es tu DataFrame con los datos desde BigQuery\n",
        "# Puedes cargar los datos de BigQuery a un DataFrame así:\n",
        "# df = pd.read_gbq(\"SELECT * FROM tu_tabla\", project_id=\"tu_proyecto\")\n",
        "\n",
        "# Seleccionar las variables de interés\n",
        "df = df[['stream_limpia', 'total_playlists']]\n",
        "\n",
        "# Dividir los datos en conjuntos de entrenamiento y prueba\n",
        "X = df[['total_playlists']]\n",
        "y = df['stream_limpia']\n",
        "X_train, X_test, y_train, y_test = train_test_split(X, y, test_size=0.2, random_state=42)\n",
        "\n",
        "# Crear un modelo de regresión lineal\n",
        "model = LinearRegression()\n",
        "\n",
        "# Entrenar el modelo\n",
        "model.fit(X_train, y_train)\n",
        "\n",
        "# Hacer predicciones en el conjunto de prueba\n",
        "y_pred = model.predict(X_test)\n",
        "\n",
        "# Calcular el error cuadrático medio en el conjunto de prueba\n",
        "mse = mean_squared_error(y_test, y_pred)\n",
        "print(f\"Error Cuadrático Medio en el conjunto de prueba: {mse}\")\n",
        "\n",
        "# Visualizar los resultados\n",
        "plt.scatter(X_test, y_test, color='black')\n",
        "plt.plot(X_test, y_pred, color='blue', linewidth=3)\n",
        "plt.xlabel('total_playlist')\n",
        "plt.ylabel('stream_limpia')\n",
        "plt.title('Regresión Lineal: total_playlists vs stream_limpia')\n",
        "plt.show()"
      ],
      "metadata": {
        "colab": {
          "base_uri": "https://localhost:8080/",
          "height": 489
        },
        "id": "paqV7LxtQ7NP",
        "outputId": "449bf5b7-439f-4445-a5a8-f2dda50e60d4"
      },
      "execution_count": null,
      "outputs": [
        {
          "output_type": "stream",
          "name": "stdout",
          "text": [
            "Error Cuadrático Medio en el conjunto de prueba: 1.1167849249507819e+17\n"
          ]
        },
        {
          "output_type": "display_data",
          "data": {
            "text/plain": [
              "<Figure size 640x480 with 1 Axes>"
            ],
            "image/png": "[encoded data removed]"
          },
          "metadata": {}
        }
      ]
    }
  ]
}